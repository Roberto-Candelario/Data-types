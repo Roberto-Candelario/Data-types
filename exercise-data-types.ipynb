{
 "cells": [
  {
   "cell_type": "markdown",
   "id": "5fa610e2",
   "metadata": {
    "papermill": {
     "duration": 0.008291,
     "end_time": "2022-07-25T05:45:27.405220",
     "exception": false,
     "start_time": "2022-07-25T05:45:27.396929",
     "status": "completed"
    },
    "tags": []
   },
   "source": [
    "**This notebook is an exercise in the [Intro to Programming](https://www.kaggle.com/learn/intro-to-programming) course.  You can reference the tutorial at [this link](https://www.kaggle.com/alexisbcook/data-types).**\n",
    "\n",
    "---\n"
   ]
  },
  {
   "cell_type": "markdown",
   "id": "3bd6bd49",
   "metadata": {
    "papermill": {
     "duration": 0.006742,
     "end_time": "2022-07-25T05:45:27.419176",
     "exception": false,
     "start_time": "2022-07-25T05:45:27.412434",
     "status": "completed"
    },
    "tags": []
   },
   "source": [
    "In the tutorial, you learned about four different data types: floats, integers, strings, and booleans.  In this exercise, you'll experiment with them.\n",
    "\n",
    "# Set up the notebook\n",
    "\n",
    "Run the next code cell without changes to set up the notebook."
   ]
  },
  {
   "cell_type": "code",
   "execution_count": 1,
   "id": "bdaf2b9c",
   "metadata": {
    "execution": {
     "iopub.execute_input": "2022-07-25T05:45:27.435763Z",
     "iopub.status.busy": "2022-07-25T05:45:27.434864Z",
     "iopub.status.idle": "2022-07-25T05:45:27.486469Z",
     "shell.execute_reply": "2022-07-25T05:45:27.485319Z"
    },
    "papermill": {
     "duration": 0.063056,
     "end_time": "2022-07-25T05:45:27.489094",
     "exception": false,
     "start_time": "2022-07-25T05:45:27.426038",
     "status": "completed"
    },
    "tags": []
   },
   "outputs": [
    {
     "name": "stdout",
     "output_type": "stream",
     "text": [
      "Setup complete.\n"
     ]
    }
   ],
   "source": [
    "# Set up the exercise\n",
    "from learntools.core import binder\n",
    "binder.bind(globals())\n",
    "from learntools.intro_to_programming.ex3 import *\n",
    "print('Setup complete.')"
   ]
  },
  {
   "cell_type": "markdown",
   "id": "ccde55d0",
   "metadata": {
    "papermill": {
     "duration": 0.006853,
     "end_time": "2022-07-25T05:45:27.503421",
     "exception": false,
     "start_time": "2022-07-25T05:45:27.496568",
     "status": "completed"
    },
    "tags": []
   },
   "source": [
    "# Question 1\n",
    "\n",
    "You have seen how to convert a float to an integer with the `int` function.  Try this out yourself by running the code cell below."
   ]
  },
  {
   "cell_type": "code",
   "execution_count": 2,
   "id": "2acbe734",
   "metadata": {
    "execution": {
     "iopub.execute_input": "2022-07-25T05:45:27.519758Z",
     "iopub.status.busy": "2022-07-25T05:45:27.519071Z",
     "iopub.status.idle": "2022-07-25T05:45:27.525559Z",
     "shell.execute_reply": "2022-07-25T05:45:27.524635Z"
    },
    "papermill": {
     "duration": 0.017034,
     "end_time": "2022-07-25T05:45:27.527586",
     "exception": false,
     "start_time": "2022-07-25T05:45:27.510552",
     "status": "completed"
    },
    "tags": []
   },
   "outputs": [
    {
     "name": "stdout",
     "output_type": "stream",
     "text": [
      "1.0\n",
      "<class 'float'>\n",
      "1\n",
      "<class 'int'>\n"
     ]
    }
   ],
   "source": [
    "# Define a float\n",
    "y = 1.\n",
    "print(y)\n",
    "print(type(y))\n",
    "\n",
    "# Convert float to integer with the int function\n",
    "z = int(y)\n",
    "print(z)\n",
    "print(type(z))"
   ]
  },
  {
   "cell_type": "markdown",
   "id": "34cad66e",
   "metadata": {
    "papermill": {
     "duration": 0.007029,
     "end_time": "2022-07-25T05:45:27.541826",
     "exception": false,
     "start_time": "2022-07-25T05:45:27.534797",
     "status": "completed"
    },
    "tags": []
   },
   "source": [
    "In this case, the float you are using has no numbers after the decimal.  \n",
    "- But what happens when you try to convert a float with a fractional part to an integer?  \n",
    "- How does the outcome of the `int` function change for positive and negative numbers?\n",
    "\n",
    "Use the next code cell to investigate and answer these questions.  Feel free to add or remove any lines of code -- it is your workspace!"
   ]
  },
  {
   "cell_type": "code",
   "execution_count": 3,
   "id": "61863c58",
   "metadata": {
    "execution": {
     "iopub.execute_input": "2022-07-25T05:45:27.563043Z",
     "iopub.status.busy": "2022-07-25T05:45:27.562555Z",
     "iopub.status.idle": "2022-07-25T05:45:27.569503Z",
     "shell.execute_reply": "2022-07-25T05:45:27.568319Z"
    },
    "papermill": {
     "duration": 0.020714,
     "end_time": "2022-07-25T05:45:27.572007",
     "exception": false,
     "start_time": "2022-07-25T05:45:27.551293",
     "status": "completed"
    },
    "tags": []
   },
   "outputs": [
    {
     "name": "stdout",
     "output_type": "stream",
     "text": [
      "1\n",
      "1\n",
      "-3\n",
      "-2\n"
     ]
    }
   ],
   "source": [
    "# Uncomment and run this code to get started!\n",
    "print(int(1.2321))\n",
    "print(int(1.747))\n",
    "print(int(-3.94535))\n",
    "print(int(-2.19774))"
   ]
  },
  {
   "cell_type": "markdown",
   "id": "dd32947d",
   "metadata": {
    "papermill": {
     "duration": 0.00858,
     "end_time": "2022-07-25T05:45:27.590939",
     "exception": false,
     "start_time": "2022-07-25T05:45:27.582359",
     "status": "completed"
    },
    "tags": []
   },
   "source": [
    "Once you have an answer, run the code cell below to see the solution.  Viewing the solution will give you credit for answering the problem."
   ]
  },
  {
   "cell_type": "code",
   "execution_count": 4,
   "id": "09dd44b1",
   "metadata": {
    "execution": {
     "iopub.execute_input": "2022-07-25T05:45:27.609509Z",
     "iopub.status.busy": "2022-07-25T05:45:27.608661Z",
     "iopub.status.idle": "2022-07-25T05:45:27.623530Z",
     "shell.execute_reply": "2022-07-25T05:45:27.622412Z"
    },
    "papermill": {
     "duration": 0.026682,
     "end_time": "2022-07-25T05:45:27.625727",
     "exception": false,
     "start_time": "2022-07-25T05:45:27.599045",
     "status": "completed"
    },
    "tags": []
   },
   "outputs": [
    {
     "data": {
      "application/javascript": [
       "parent.postMessage({\"jupyterEvent\": \"custom.exercise_interaction\", \"data\": {\"outcomeType\": 1, \"valueTowardsCompletion\": 0.2, \"interactionType\": 1, \"questionType\": 4, \"questionId\": \"1_FloatToInt\", \"learnToolsVersion\": \"0.3.4\", \"failureMessage\": \"\", \"exceptionClass\": \"\", \"trace\": \"\"}}, \"*\")"
      ],
      "text/plain": [
       "<IPython.core.display.Javascript object>"
      ]
     },
     "metadata": {},
     "output_type": "display_data"
    },
    {
     "data": {
      "text/markdown": [
       "<span style=\"color:#33cc33\">Correct:</span> \n",
       "\n",
       "Negative floats are always rounded UP to the closest integer (for instance, both -1.1 and -1.9 are rounded up to -1). Positive floats are always rounded DOWN to the closest integer (for instance, 2.1 and 2.9 are rounded down to 2)."
      ],
      "text/plain": [
       "Correct: \n",
       "\n",
       "Negative floats are always rounded UP to the closest integer (for instance, both -1.1 and -1.9 are rounded up to -1). Positive floats are always rounded DOWN to the closest integer (for instance, 2.1 and 2.9 are rounded down to 2)."
      ]
     },
     "metadata": {},
     "output_type": "display_data"
    }
   ],
   "source": [
    "# Check your answer (Run this code cell to receive credit!)\n",
    "q1.check()"
   ]
  },
  {
   "cell_type": "markdown",
   "id": "5074978b",
   "metadata": {
    "papermill": {
     "duration": 0.007508,
     "end_time": "2022-07-25T05:45:27.641223",
     "exception": false,
     "start_time": "2022-07-25T05:45:27.633715",
     "status": "completed"
    },
    "tags": []
   },
   "source": [
    "# Question 2\n",
    "\n",
    "In the tutorial, you learned about booleans (which can take a value of `True` or `False`), in addition to integers, floats, and strings.  For this question, your goal is to determine what happens when you multiply a boolean by any of these data types.  Specifically, \n",
    "- What happens when you multiply an integer or float by `True`?  What happens when you multiply them by `False`?  How does the answer change if the numbers are positive or negative?\n",
    "- What happens when you multiply a string by `True`?  By `False`?\n",
    "\n",
    "Use the next code cell for your investigation. "
   ]
  },
  {
   "cell_type": "code",
   "execution_count": 5,
   "id": "de79c763",
   "metadata": {
    "execution": {
     "iopub.execute_input": "2022-07-25T05:45:27.660266Z",
     "iopub.status.busy": "2022-07-25T05:45:27.659639Z",
     "iopub.status.idle": "2022-07-25T05:45:27.664978Z",
     "shell.execute_reply": "2022-07-25T05:45:27.664231Z"
    },
    "papermill": {
     "duration": 0.019687,
     "end_time": "2022-07-25T05:45:27.668634",
     "exception": false,
     "start_time": "2022-07-25T05:45:27.648947",
     "status": "completed"
    },
    "tags": []
   },
   "outputs": [
    {
     "name": "stdout",
     "output_type": "stream",
     "text": [
      "3\n",
      "-3.1\n",
      "<class 'str'>\n",
      "0\n"
     ]
    }
   ],
   "source": [
    "# Uncomment and run this code to get started!\n",
    "print(3 * True)\n",
    "print(-3.1 * True)\n",
    "print(type(\"abc\" * False))\n",
    "print(len(\"abc\" * False))"
   ]
  },
  {
   "cell_type": "markdown",
   "id": "68ab2272",
   "metadata": {
    "papermill": {
     "duration": 0.007504,
     "end_time": "2022-07-25T05:45:27.685327",
     "exception": false,
     "start_time": "2022-07-25T05:45:27.677823",
     "status": "completed"
    },
    "tags": []
   },
   "source": [
    "Once you have an answer, run the code cell below to see the solution.  Viewing the solution will give you credit for answering the problem."
   ]
  },
  {
   "cell_type": "code",
   "execution_count": 6,
   "id": "73b3d130",
   "metadata": {
    "execution": {
     "iopub.execute_input": "2022-07-25T05:45:27.702532Z",
     "iopub.status.busy": "2022-07-25T05:45:27.701784Z",
     "iopub.status.idle": "2022-07-25T05:45:27.710741Z",
     "shell.execute_reply": "2022-07-25T05:45:27.709586Z"
    },
    "papermill": {
     "duration": 0.01989,
     "end_time": "2022-07-25T05:45:27.712860",
     "exception": false,
     "start_time": "2022-07-25T05:45:27.692970",
     "status": "completed"
    },
    "tags": []
   },
   "outputs": [
    {
     "data": {
      "application/javascript": [
       "parent.postMessage({\"jupyterEvent\": \"custom.exercise_interaction\", \"data\": {\"outcomeType\": 1, \"valueTowardsCompletion\": 0.2, \"interactionType\": 1, \"questionType\": 4, \"questionId\": \"2_MultiplyBooleans\", \"learnToolsVersion\": \"0.3.4\", \"failureMessage\": \"\", \"exceptionClass\": \"\", \"trace\": \"\"}}, \"*\")"
      ],
      "text/plain": [
       "<IPython.core.display.Javascript object>"
      ]
     },
     "metadata": {},
     "output_type": "display_data"
    },
    {
     "data": {
      "text/markdown": [
       "<span style=\"color:#33cc33\">Correct:</span> \n",
       "\n",
       "When you multiple an integer or float by a boolean with value `True`, it just returns that same integer or float (and is equivalent to multiplying by 1).  If you multiply an integer or float by a boolean with value `False`, it always returns 0.  This is true for both positive and negative numbers.  If you multiply a string by a boolean with value `True`, it just returns that same string.  And if you multiply a string by a boolean with value `False`, it returns an empty string (or a string with length zero)."
      ],
      "text/plain": [
       "Correct: \n",
       "\n",
       "When you multiple an integer or float by a boolean with value `True`, it just returns that same integer or float (and is equivalent to multiplying by 1).  If you multiply an integer or float by a boolean with value `False`, it always returns 0.  This is true for both positive and negative numbers.  If you multiply a string by a boolean with value `True`, it just returns that same string.  And if you multiply a string by a boolean with value `False`, it returns an empty string (or a string with length zero)."
      ]
     },
     "metadata": {},
     "output_type": "display_data"
    }
   ],
   "source": [
    "# Check your answer (Run this code cell to receive credit!)\n",
    "q2.check()"
   ]
  },
  {
   "cell_type": "markdown",
   "id": "48dde2b8",
   "metadata": {
    "papermill": {
     "duration": 0.007817,
     "end_time": "2022-07-25T05:45:27.729277",
     "exception": false,
     "start_time": "2022-07-25T05:45:27.721460",
     "status": "completed"
    },
    "tags": []
   },
   "source": [
    "# Question 3\n",
    "\n",
    "In this question, you will build off your work from the previous exercise to write a function that estimates the value of a house.\n",
    "\n",
    "Use the next code cell to create a function `get_expected_cost` that takes as input three variables:\n",
    "- `beds` - number of bedrooms (data type float)\n",
    "- `baths` - number of bathrooms (data type float)\n",
    "- `has_basement` - whether or not the house has a basement (data type boolean)\n",
    "\n",
    "It should return the expected cost of a house with those characteristics. Assume that:\n",
    "- the expected cost for a house with 0 bedrooms and 0 bathrooms, and no basement is 80000, \n",
    "- each bedroom adds 30000 to the expected cost,\n",
    "- each bathroom adds 10000 to the expected cost, and\n",
    "- a basement adds 40000 to the expected cost.\n",
    "\n",
    "For instance,\n",
    "- a house with 1 bedroom, 1 bathroom, and no basement has an expected cost of 80000 + 30000 + 10000 = 120000.  This value will be calculated with `get_expected_cost(1, 1, False)`.\n",
    "- a house with 2 bedrooms, 1 bathroom, and a basement has an expected cost of 80000 + 2*30000 + 10000 + 40000 = 190000.  This value will be calculated with `get_expected_cost(2, 1, True)`.\n",
    "\n",
    "Remember you can always get a hint by uncommenting `q3.hint()` in the code cell following the next!"
   ]
  },
  {
   "cell_type": "code",
   "execution_count": 7,
   "id": "e64475e7",
   "metadata": {
    "execution": {
     "iopub.execute_input": "2022-07-25T05:45:27.747093Z",
     "iopub.status.busy": "2022-07-25T05:45:27.746489Z",
     "iopub.status.idle": "2022-07-25T05:45:27.755736Z",
     "shell.execute_reply": "2022-07-25T05:45:27.754943Z"
    },
    "papermill": {
     "duration": 0.020645,
     "end_time": "2022-07-25T05:45:27.757747",
     "exception": false,
     "start_time": "2022-07-25T05:45:27.737102",
     "status": "completed"
    },
    "tags": []
   },
   "outputs": [
    {
     "data": {
      "application/javascript": [
       "parent.postMessage({\"jupyterEvent\": \"custom.exercise_interaction\", \"data\": {\"outcomeType\": 1, \"valueTowardsCompletion\": 0.2, \"interactionType\": 1, \"questionType\": 2, \"questionId\": \"3_EstimateHouseValueBool\", \"learnToolsVersion\": \"0.3.4\", \"failureMessage\": \"\", \"exceptionClass\": \"\", \"trace\": \"\"}}, \"*\")"
      ],
      "text/plain": [
       "<IPython.core.display.Javascript object>"
      ]
     },
     "metadata": {},
     "output_type": "display_data"
    },
    {
     "data": {
      "text/markdown": [
       "<span style=\"color:#33cc33\">Correct</span>"
      ],
      "text/plain": [
       "Correct"
      ]
     },
     "metadata": {},
     "output_type": "display_data"
    }
   ],
   "source": [
    "# TODO: Complete the function\n",
    "def get_expected_cost(beds, baths, has_basement):\n",
    "    value = 80000 + (beds * 30000) + (baths * 10000) + (40000 * has_basement)\n",
    "    return value\n",
    "\n",
    "# Check your answer \n",
    "q3.check()"
   ]
  },
  {
   "cell_type": "code",
   "execution_count": 8,
   "id": "9a34de1c",
   "metadata": {
    "execution": {
     "iopub.execute_input": "2022-07-25T05:45:27.776413Z",
     "iopub.status.busy": "2022-07-25T05:45:27.775784Z",
     "iopub.status.idle": "2022-07-25T05:45:27.780079Z",
     "shell.execute_reply": "2022-07-25T05:45:27.779320Z"
    },
    "papermill": {
     "duration": 0.016067,
     "end_time": "2022-07-25T05:45:27.782146",
     "exception": false,
     "start_time": "2022-07-25T05:45:27.766079",
     "status": "completed"
    },
    "tags": []
   },
   "outputs": [],
   "source": [
    "# Uncomment to see a hint\n",
    "#q3.hint()\n",
    "\n",
    "# Uncomment to view the solution\n",
    "#q3.solution()"
   ]
  },
  {
   "cell_type": "markdown",
   "id": "fe3c4d40",
   "metadata": {
    "papermill": {
     "duration": 0.007935,
     "end_time": "2022-07-25T05:45:27.798204",
     "exception": false,
     "start_time": "2022-07-25T05:45:27.790269",
     "status": "completed"
    },
    "tags": []
   },
   "source": [
    "# Question 4\n",
    "\n",
    "We'll continue our study of boolean arithmetic.  For this question, your task is to provide a description of what happpens when you add booleans. \n",
    "\n",
    "Use the next code cell for your investigation.  Feel free to add or remove any lines of code - use it as your workspace!"
   ]
  },
  {
   "cell_type": "code",
   "execution_count": 9,
   "id": "b634d657",
   "metadata": {
    "execution": {
     "iopub.execute_input": "2022-07-25T05:45:27.816757Z",
     "iopub.status.busy": "2022-07-25T05:45:27.816112Z",
     "iopub.status.idle": "2022-07-25T05:45:27.823257Z",
     "shell.execute_reply": "2022-07-25T05:45:27.821572Z"
    },
    "papermill": {
     "duration": 0.019584,
     "end_time": "2022-07-25T05:45:27.826002",
     "exception": false,
     "start_time": "2022-07-25T05:45:27.806418",
     "status": "completed"
    },
    "tags": []
   },
   "outputs": [
    {
     "name": "stdout",
     "output_type": "stream",
     "text": [
      "0\n",
      "1\n",
      "1\n",
      "2\n",
      "3\n"
     ]
    }
   ],
   "source": [
    "print(False + False)\n",
    "print(True + False)\n",
    "print(False + True)\n",
    "print(True + True)\n",
    "print(False + True + True + True)"
   ]
  },
  {
   "cell_type": "markdown",
   "id": "7ade8977",
   "metadata": {
    "papermill": {
     "duration": 0.008567,
     "end_time": "2022-07-25T05:45:27.843472",
     "exception": false,
     "start_time": "2022-07-25T05:45:27.834905",
     "status": "completed"
    },
    "tags": []
   },
   "source": [
    "Once you have an answer, run the code cell below to see the solution.  Viewing the solution will give you credit for answering the problem."
   ]
  },
  {
   "cell_type": "code",
   "execution_count": 10,
   "id": "13da34ea",
   "metadata": {
    "execution": {
     "iopub.execute_input": "2022-07-25T05:45:27.861569Z",
     "iopub.status.busy": "2022-07-25T05:45:27.861219Z",
     "iopub.status.idle": "2022-07-25T05:45:27.870517Z",
     "shell.execute_reply": "2022-07-25T05:45:27.869587Z"
    },
    "papermill": {
     "duration": 0.020909,
     "end_time": "2022-07-25T05:45:27.872643",
     "exception": false,
     "start_time": "2022-07-25T05:45:27.851734",
     "status": "completed"
    },
    "tags": []
   },
   "outputs": [
    {
     "data": {
      "application/javascript": [
       "parent.postMessage({\"jupyterEvent\": \"custom.exercise_interaction\", \"data\": {\"outcomeType\": 1, \"valueTowardsCompletion\": 0.2, \"interactionType\": 1, \"questionType\": 4, \"questionId\": \"4_AddingBooleans\", \"learnToolsVersion\": \"0.3.4\", \"failureMessage\": \"\", \"exceptionClass\": \"\", \"trace\": \"\"}}, \"*\")"
      ],
      "text/plain": [
       "<IPython.core.display.Javascript object>"
      ]
     },
     "metadata": {},
     "output_type": "display_data"
    },
    {
     "data": {
      "text/markdown": [
       "<span style=\"color:#33cc33\">Correct:</span> \n",
       "\n",
       "When you add booleans, adding `False` is equivalent to adding 0, and adding `True` is equivalent to adding 1."
      ],
      "text/plain": [
       "Correct: \n",
       "\n",
       "When you add booleans, adding `False` is equivalent to adding 0, and adding `True` is equivalent to adding 1."
      ]
     },
     "metadata": {},
     "output_type": "display_data"
    }
   ],
   "source": [
    "# Check your answer (Run this code cell to receive credit!)\n",
    "q4.check()"
   ]
  },
  {
   "cell_type": "markdown",
   "id": "08cf94b5",
   "metadata": {
    "papermill": {
     "duration": 0.008207,
     "end_time": "2022-07-25T05:45:27.889405",
     "exception": false,
     "start_time": "2022-07-25T05:45:27.881198",
     "status": "completed"
    },
    "tags": []
   },
   "source": [
    "# 🌶️ Question 5\n",
    "\n",
    "You own an online shop where you sell rings with custom engravings.  You offer both gold plated and solid gold rings.\n",
    "- Gold plated rings have a base cost of \\\\$50, and you charge \\\\$7 per engraved unit.  \n",
    "- Solid gold rings have a base cost of \\\\$100, and you charge \\\\$10 per engraved unit.\n",
    "- Spaces and punctuation are counted as engraved units.\n",
    "\n",
    "Write a function `cost_of_project()` that takes two arguments:\n",
    "- `engraving` - a Python string with the text of the engraving\n",
    "- `solid_gold` - a Boolean that indicates whether the ring is solid gold\n",
    "\n",
    "It should return the cost of the project.  This question should be fairly challenging, and you may need a hint."
   ]
  },
  {
   "cell_type": "code",
   "execution_count": 11,
   "id": "5315d567",
   "metadata": {
    "execution": {
     "iopub.execute_input": "2022-07-25T05:45:27.908377Z",
     "iopub.status.busy": "2022-07-25T05:45:27.907739Z",
     "iopub.status.idle": "2022-07-25T05:45:27.917568Z",
     "shell.execute_reply": "2022-07-25T05:45:27.916711Z"
    },
    "papermill": {
     "duration": 0.021746,
     "end_time": "2022-07-25T05:45:27.919625",
     "exception": false,
     "start_time": "2022-07-25T05:45:27.897879",
     "status": "completed"
    },
    "tags": []
   },
   "outputs": [
    {
     "data": {
      "application/javascript": [
       "parent.postMessage({\"jupyterEvent\": \"custom.exercise_interaction\", \"data\": {\"outcomeType\": 1, \"valueTowardsCompletion\": 0.2, \"interactionType\": 1, \"questionType\": 2, \"questionId\": \"5_CustomEngravings\", \"learnToolsVersion\": \"0.3.4\", \"failureMessage\": \"\", \"exceptionClass\": \"\", \"trace\": \"\"}}, \"*\")"
      ],
      "text/plain": [
       "<IPython.core.display.Javascript object>"
      ]
     },
     "metadata": {},
     "output_type": "display_data"
    },
    {
     "data": {
      "text/markdown": [
       "<span style=\"color:#33cc33\">Correct</span>"
      ],
      "text/plain": [
       "Correct"
      ]
     },
     "metadata": {},
     "output_type": "display_data"
    }
   ],
   "source": [
    "def cost_of_project(engraving, solid_gold):\n",
    "    cost = solid_gold * (100 + 10 * len(engraving)) + (not solid_gold) * (50 + 7 * len(engraving))\n",
    "    return cost\n",
    "\n",
    "# Check your answer\n",
    "q5.check()"
   ]
  },
  {
   "cell_type": "code",
   "execution_count": 12,
   "id": "2d031661",
   "metadata": {
    "execution": {
     "iopub.execute_input": "2022-07-25T05:45:27.939955Z",
     "iopub.status.busy": "2022-07-25T05:45:27.939308Z",
     "iopub.status.idle": "2022-07-25T05:45:27.948484Z",
     "shell.execute_reply": "2022-07-25T05:45:27.947626Z"
    },
    "papermill": {
     "duration": 0.022024,
     "end_time": "2022-07-25T05:45:27.950724",
     "exception": false,
     "start_time": "2022-07-25T05:45:27.928700",
     "status": "completed"
    },
    "tags": []
   },
   "outputs": [
    {
     "data": {
      "application/javascript": [
       "parent.postMessage({\"jupyterEvent\": \"custom.exercise_interaction\", \"data\": {\"interactionType\": 3, \"questionType\": 2, \"questionId\": \"5_CustomEngravings\", \"learnToolsVersion\": \"0.3.4\", \"valueTowardsCompletion\": 0.0, \"failureMessage\": \"\", \"exceptionClass\": \"\", \"trace\": \"\", \"outcomeType\": 4}}, \"*\")"
      ],
      "text/plain": [
       "<IPython.core.display.Javascript object>"
      ]
     },
     "metadata": {},
     "output_type": "display_data"
    },
    {
     "data": {
      "text/markdown": [
       "<span style=\"color:#33cc99\">Solution:</span> \n",
       "```python\n",
       "def cost_of_project(engraving, solid_gold):\n",
       "    cost = solid_gold * (100 + 10 * len(engraving)) + (not solid_gold) * (50 + 7 * len(engraving))\n",
       "    return cost\n",
       "\n",
       "```"
      ],
      "text/plain": [
       "Solution: \n",
       "```python\n",
       "def cost_of_project(engraving, solid_gold):\n",
       "    cost = solid_gold * (100 + 10 * len(engraving)) + (not solid_gold) * (50 + 7 * len(engraving))\n",
       "    return cost\n",
       "\n",
       "```"
      ]
     },
     "metadata": {},
     "output_type": "display_data"
    }
   ],
   "source": [
    "# Uncomment to see a hint\n",
    "#q5.hint()\n",
    "\n",
    "# Uncomment to view the solution\n",
    "q5.solution()"
   ]
  },
  {
   "cell_type": "markdown",
   "id": "9e3249a6",
   "metadata": {
    "papermill": {
     "duration": 0.009733,
     "end_time": "2022-07-25T05:45:27.969780",
     "exception": false,
     "start_time": "2022-07-25T05:45:27.960047",
     "status": "completed"
    },
    "tags": []
   },
   "source": [
    "Run the next code cell to calculate the cost of engraving `Charlie+Denver` on a solid gold ring."
   ]
  },
  {
   "cell_type": "code",
   "execution_count": 13,
   "id": "8331e3c6",
   "metadata": {
    "execution": {
     "iopub.execute_input": "2022-07-25T05:45:27.990410Z",
     "iopub.status.busy": "2022-07-25T05:45:27.989785Z",
     "iopub.status.idle": "2022-07-25T05:45:27.995852Z",
     "shell.execute_reply": "2022-07-25T05:45:27.994448Z"
    },
    "papermill": {
     "duration": 0.018797,
     "end_time": "2022-07-25T05:45:27.998109",
     "exception": false,
     "start_time": "2022-07-25T05:45:27.979312",
     "status": "completed"
    },
    "tags": []
   },
   "outputs": [
    {
     "name": "stdout",
     "output_type": "stream",
     "text": [
      "240\n"
     ]
    }
   ],
   "source": [
    "project_one = cost_of_project(\"Charlie+Denver\", True)\n",
    "print(project_one)"
   ]
  },
  {
   "cell_type": "markdown",
   "id": "b2bdfe0d",
   "metadata": {
    "papermill": {
     "duration": 0.010114,
     "end_time": "2022-07-25T05:45:28.019799",
     "exception": false,
     "start_time": "2022-07-25T05:45:28.009685",
     "status": "completed"
    },
    "tags": []
   },
   "source": [
    "Use the next code cell to calculate the cost of engraving `08/10/2000` on a gold plated ring."
   ]
  },
  {
   "cell_type": "code",
   "execution_count": 14,
   "id": "497168f8",
   "metadata": {
    "execution": {
     "iopub.execute_input": "2022-07-25T05:45:28.044314Z",
     "iopub.status.busy": "2022-07-25T05:45:28.043522Z",
     "iopub.status.idle": "2022-07-25T05:45:28.050394Z",
     "shell.execute_reply": "2022-07-25T05:45:28.048818Z"
    },
    "papermill": {
     "duration": 0.02239,
     "end_time": "2022-07-25T05:45:28.053488",
     "exception": false,
     "start_time": "2022-07-25T05:45:28.031098",
     "status": "completed"
    },
    "tags": []
   },
   "outputs": [
    {
     "name": "stdout",
     "output_type": "stream",
     "text": [
      "120\n"
     ]
    }
   ],
   "source": [
    "project_two = cost_of_project(\"08/10/2000\", False)\n",
    "print(project_two)"
   ]
  },
  {
   "cell_type": "markdown",
   "id": "220becb7",
   "metadata": {
    "papermill": {
     "duration": 0.009343,
     "end_time": "2022-07-25T05:45:28.072844",
     "exception": false,
     "start_time": "2022-07-25T05:45:28.063501",
     "status": "completed"
    },
    "tags": []
   },
   "source": [
    "# Keep going\n",
    "\n",
    "Continue to the next lesson to **[learn about conditions and conditional statements](https://www.kaggle.com/alexisbcook/conditions-and-conditional-statements)**."
   ]
  },
  {
   "cell_type": "markdown",
   "id": "33da4f2f",
   "metadata": {
    "papermill": {
     "duration": 0.010446,
     "end_time": "2022-07-25T05:45:28.093600",
     "exception": false,
     "start_time": "2022-07-25T05:45:28.083154",
     "status": "completed"
    },
    "tags": []
   },
   "source": [
    "---\n",
    "\n",
    "\n",
    "\n",
    "\n",
    "*Have questions or comments? Visit the [course discussion forum](https://www.kaggle.com/learn/intro-to-programming/discussion) to chat with other learners.*"
   ]
  }
 ],
 "metadata": {
  "kernelspec": {
   "display_name": "Python 3",
   "language": "python",
   "name": "python3"
  },
  "language_info": {
   "codemirror_mode": {
    "name": "ipython",
    "version": 3
   },
   "file_extension": ".py",
   "mimetype": "text/x-python",
   "name": "python",
   "nbconvert_exporter": "python",
   "pygments_lexer": "ipython3",
   "version": "3.7.12"
  },
  "papermill": {
   "default_parameters": {},
   "duration": 10.235213,
   "end_time": "2022-07-25T05:45:28.724411",
   "environment_variables": {},
   "exception": null,
   "input_path": "__notebook__.ipynb",
   "output_path": "__notebook__.ipynb",
   "parameters": {},
   "start_time": "2022-07-25T05:45:18.489198",
   "version": "2.3.4"
  }
 },
 "nbformat": 4,
 "nbformat_minor": 5
}
